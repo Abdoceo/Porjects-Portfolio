{
 "cells": [
  {
   "cell_type": "code",
   "execution_count": 1,
   "id": "b10df338",
   "metadata": {},
   "outputs": [],
   "source": [
    "## Rock, Paper, Scissors\n",
    "\n",
    "# Import random module for the computer's choice\n",
    "import random\n",
    "random.seed(365) # Set the seed for reproducibility\n",
    "\n",
    "# Mapping of numbers to rock, paper & scissors\n",
    "int2choice = {0:'R', 1:'P', 2:'S'}\n",
    "\n",
    "# Class to play the game\n",
    "class RPS_Game(object):\n",
    "    \n",
    "    # Initialize the game\n",
    "    def __init__(self, num_rounds):\n",
    "        self.num_rounds = num_rounds # record the total number of rounds\n",
    "        self.counter_pc_wins = 0     # how many rounds are won by the PC\n",
    "        self.draws = 0               # how many rounds end in a draw\n",
    "        print(f\"Start of Rock-Paper-Scissors Game - {num_rounds} rounds.\")\n",
    "        \n",
    "    # The play() method implements the game logic\n",
    "    def play(self):\n",
    "        for nr in range(self.num_rounds):\n",
    "            print(f\"It's round No. {nr+1}.\")\n",
    "            ''' Your code for Question 2 goes here. '''\n",
    "            user_choice = input(\"Enter your choice (R, P, S): \").upper() \n",
    "            print(f\"You chose: {user_choice}\")\n",
    "            # Validation is required\n",
    "            while user_choice not in {'R', 'P', 'S'}:\n",
    "                print(\"Invalid move. Please enter 'R', 'P' or 'S'.\")\n",
    "                print(f\"You chose: {user_choice}\")\n",
    "                ''' Your code for Question 2 goes here. '''\n",
    "                user_choice = input(\"Enter your choice (R, P, S): \").upper()\n",
    "                print(f\"You chose: {user_choice}\") \n",
    "                                \n",
    "            # Computer choice\n",
    "            pc_choice = int2choice[random.randint(0, 2)]\n",
    "            print(f\"Computer's choice: {pc_choice}\")\n",
    "            # the backslash allows it to span multiple lines while maintaining readability and preventing syntax errors\n",
    "            if (pc_choice == \"R\" and user_choice == \"P\") or\\\n",
    "               (pc_choice == \"P\" and user_choice == \"R\") or\\\n",
    "               (pc_choice == \"S\" and user_choice == \"P\"):\n",
    "               self.counter_pc_wins += 1\n",
    "               print(f\"PC win this round! round No. {nr+1}.\") \n",
    "                           \n",
    "            elif user_choice != pc_choice:\n",
    "                print(f\"YOU win this round! round No. {nr+1}.\")\n",
    "                \n",
    "            else:\n",
    "                print(f\"Draw! round No. {nr+1}.\")\n",
    "                self.draws += 1\n",
    "                \n",
    "            # Keep track of the game's progress\n",
    "            print(f\"Current result: self.counter_pc_wins - \",end='')\n",
    "            print(f\"You {nr + 1 } - {self.counter_pc_wins} - {self.draws}\")\n",
    "            print('-'*30)"
   ]
  },
  {
   "cell_type": "code",
   "execution_count": null,
   "id": "43b230c0",
   "metadata": {},
   "outputs": [
    {
     "name": "stdout",
     "output_type": "stream",
     "text": [
      "Start of Rock-Paper-Scissors Game - 5 rounds.\n",
      "It's round No. 1.\n",
      "You chose: \n",
      "Invalid move. Please enter 'R', 'P' or 'S'.\n",
      "You chose: \n"
     ]
    }
   ],
   "source": [
    "game = RPS_Game(num_rounds=5)\n",
    "game.play()\n"
   ]
  },
  {
   "cell_type": "markdown",
   "id": "a0db6a62",
   "metadata": {},
   "source": [
    "## Questions 2 and 6"
   ]
  },
  {
   "cell_type": "markdown",
   "id": "9d957932",
   "metadata": {},
   "source": [
    "### Declare an RPS_Game object where 6 instances of RPS are played. Run the game"
   ]
  },
  {
   "cell_type": "code",
   "execution_count": null,
   "id": "f1d6e1d8",
   "metadata": {},
   "outputs": [],
   "source": []
  }
 ],
 "metadata": {
  "kernelspec": {
   "display_name": "capstone",
   "language": "python",
   "name": "python3"
  },
  "language_info": {
   "codemirror_mode": {
    "name": "ipython",
    "version": 3
   },
   "file_extension": ".py",
   "mimetype": "text/x-python",
   "name": "python",
   "nbconvert_exporter": "python",
   "pygments_lexer": "ipython3",
   "version": "3.13.1"
  }
 },
 "nbformat": 4,
 "nbformat_minor": 5
}
