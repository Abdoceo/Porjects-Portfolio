{
 "cells": [
  {
   "cell_type": "code",
   "execution_count": 51,
   "id": "6faece17",
   "metadata": {},
   "outputs": [],
   "source": [
    "import numpy as np\n",
    "import matplotlib.pyplot as plt\n",
    "\n",
    "class GameOfLife(object):  \n",
    "    \n",
    "    def __init__(self, x_dim, y_dim):\n",
    "        # Initialize a 2D list with dimensions x_dim by y_dim filled with zeros.\n",
    "        self.x_dim = x_dim\n",
    "        self.y_dim = y_dim\n",
    "        #  For each value in a sequence that runs y\\x_dim times, place a 0 in a list.\n",
    "        self.grid = [[0 for _ in range(y_dim)] for _ in range(x_dim)]\n",
    "    \n",
    "    def get_grid(self):\n",
    "        # Implement a getter method for your grid.\n",
    "        # simply returns the grid stored in the instance\n",
    "        \n",
    "        return self.grid\n",
    "        \n",
    "\n",
    "    def print_grid(self):\n",
    "        # Implement a method to print out your grid in a human-readable format.\n",
    "        for rows in self.grid:\n",
    "            print(\" | \".join(str(cell)for cell in rows)) \n",
    "\n",
    "    def populate_grid(self, coord):\n",
    "        # Given a list of 2D coordinates (represented as tuples/lists with 2 elements each),\n",
    "        # set the corresponding elements in your grid to 1.\n",
    "        for x,y in coord:\n",
    "            if 0 <= x < self.x_dim and 0 <= y < self.y_dim:\n",
    "                self.grid[x][y] = 1\n",
    "\n",
    "    def make_step(self):\n",
    "        new_grid = [[0 for _ in range(self.y_dim)] for _ in range(self.x_dim)]  # Copy of the grid\n",
    "\n",
    "        neighbours = [(-1,-1), (-1,0), (-1,1),\n",
    "                  (0,-1),         (0, 1),\n",
    "                  (1,-1), (1, 0), (1, 1)]\n",
    "\n",
    "        for x in range(self.x_dim):\n",
    "            for y in range(self.y_dim):\n",
    "                count = 0\n",
    "                for dx, dy in neighbours:\n",
    "                    new_x, new_y = x + dx, y + dy\n",
    "                    if 0 <= new_x < self.x_dim and 0 <= new_y < self.y_dim:\n",
    "                        count += self.grid[new_x][new_y]\n",
    "\n",
    "            # Apply Conway's rules\n",
    "                if self.grid[x][y] == 1 and count in [2, 3]:\n",
    "                    new_grid[x][y] = 1  # Live cell survives\n",
    "                elif self.grid[x][y] == 0 and count == 3:\n",
    "                    new_grid[x][y] = 1  # Dead cell becomes alive\n",
    "\n",
    "        self.grid = new_grid  # Update the grid\n",
    "\n",
    "    \n",
    "    def make_n_steps(self, n):\n",
    "        # Implement a method that applies the make_step method n times.\n",
    "        for i in range(n):\n",
    "            self.make_step()\n",
    "\n",
    "    def draw_grid(self):\n",
    "        grid_array = np.array(self.grid)  # Convert list to NumPy array\n",
    "        plt.imshow(grid_array, cmap='binary')\n",
    "        plt.title(\"Conway's Game of Life\")\n",
    "        plt.xlabel(\"Columns\")\n",
    "        plt.ylabel(\"Rows\")\n",
    "        plt.show()"
   ]
  },
  {
   "cell_type": "code",
   "execution_count": 53,
   "id": "dc0e0cbe-3c00-4d30-8227-88421d71bdec",
   "metadata": {},
   "outputs": [],
   "source": [
    "game = GameOfLife(5, 5)  # Create a 5x5 grid\n"
   ]
  },
  {
   "cell_type": "code",
   "execution_count": 55,
   "id": "357ad093-5820-4b2b-96d1-f1d2ca5b1562",
   "metadata": {},
   "outputs": [],
   "source": [
    "game.populate_grid([(1, 2), (2, 2), (3, 2)])"
   ]
  },
  {
   "cell_type": "code",
   "execution_count": 57,
   "id": "73d77db0-a763-4e16-a75e-366e16184d1e",
   "metadata": {},
   "outputs": [
    {
     "name": "stdout",
     "output_type": "stream",
     "text": [
      "0 | 0 | 0 | 0 | 0\n",
      "0 | 0 | 1 | 0 | 0\n",
      "0 | 0 | 1 | 0 | 0\n",
      "0 | 0 | 1 | 0 | 0\n",
      "0 | 0 | 0 | 0 | 0\n"
     ]
    }
   ],
   "source": [
    "game.print_grid()"
   ]
  },
  {
   "cell_type": "code",
   "execution_count": 59,
   "id": "76a1de4f-fdaa-432a-aa95-4a18e3db0d93",
   "metadata": {},
   "outputs": [
    {
     "data": {
      "image/png": "[encoded data removed]",
      "text/plain": [
       "<Figure size 640x480 with 1 Axes>"
      ]
     },
     "metadata": {},
     "output_type": "display_data"
    }
   ],
   "source": [
    "game.draw_grid()"
   ]
  },
  {
   "cell_type": "code",
   "execution_count": null,
   "id": "ac2bfda0-84f5-4e9e-a786-aabd57b1e647",
   "metadata": {},
   "outputs": [],
   "source": []
  }
 ],
 "metadata": {
  "kernelspec": {
   "display_name": "Python 3 (ipykernel)",
   "language": "python",
   "name": "python3"
  },
  "language_info": {
   "codemirror_mode": {
    "name": "ipython",
    "version": 3
   },
   "file_extension": ".py",
   "mimetype": "text/x-python",
   "name": "python",
   "nbconvert_exporter": "python",
   "pygments_lexer": "ipython3",
   "version": "3.11.5"
  }
 },
 "nbformat": 4,
 "nbformat_minor": 5
}
